{
  "nbformat": 4,
  "nbformat_minor": 0,
  "metadata": {
    "colab": {
      "provenance": []
    },
    "kernelspec": {
      "name": "python3",
      "display_name": "Python 3"
    },
    "language_info": {
      "name": "python"
    }
  },
  "cells": [
    {
      "cell_type": "markdown",
      "source": [
        "1. What is Object-Oriented Programming (OOP) ??\n",
        "\n",
        "* Object-Oriented Programming (OOP) is a programming paradigm based on the concept of \"objects\", which are instances of classes. It helps organize and structure code in a more reusable, flexible, and maintainable way.\n",
        "\n",
        "* inheritance, abstraction, polymorphism, encapsulation.\n",
        "\n",
        "2. What is a class in OOP ??\n",
        "\n",
        "* A class is a blueprint or template for creating objects.\n",
        "* It defines a set of attributes (data) and methods (functions) that the created objects will have.\n",
        "\n",
        "3. What is an object in OOP ??\n",
        "\n",
        "* An object is a real-world entity created using a class.\n",
        "* It is an instance of a class that contains data (attributes) and can perform actions (methods) defined in the class.\n",
        "\n",
        "4. What is the difference between abstraction and encapsulation ??\n",
        "\n",
        "* Abstraction: Hiding unnecessary details and showing only relevant info, To simplify complexity for the user.\n",
        "* Encapsulation: Binding data and code together and restricting access, To protect data from unauthorized access.\n",
        "\n",
        "5. What are dunder methods in Python ??\n",
        "\n",
        "* Dunder methods (also called magic methods or special methods) are built-in methods in Python that start and end with double underscores:\n",
        "* Example: __init__, __str__, __len__, __add__\n",
        "\n",
        "* \"Dunder\" = DUble UNDERscore\n",
        "\n",
        "6. Explain the concept of inheritance in OOP ??\n",
        "\n",
        "* Inheritance is an OOP concept where a class (child/derived class) can reuse the properties and methods of another class (parent/base class).\n",
        "\n",
        "* It’s like a child inheriting features (like eyes, behavior) from their parent.\n",
        "\n",
        "7. What is polymorphism in OOP ??\n",
        "\n",
        "* Polymorphism means \"many forms\". In OOP, polymorphism allows one interface (method or operator) to behave differently based on the object using it.\n",
        "\n",
        "8. How is encapsulation achieved in Python ??\n",
        "\n",
        "* Encapsulation means hiding the internal state (data) of an object and restricting direct access to it from outside the class.\n",
        "* Private Variables (with double underscore __)\n",
        "* Getters and Setters (Control access to private data)\n",
        "\n",
        "9.  What is a constructor in Python ??\n",
        "\n",
        "* A constructor in Python is a special method used to initialize the object when it is created.\n",
        "* In Python, the constructor method is always named __init__().\n",
        "\n",
        "10.  What are class and static methods in Python ??\n",
        "\n",
        "* In Python, methods inside a class can be of three types:\n",
        "\n",
        "* Instance Methods (default) → work with object (self)\n",
        "\n",
        "* Class Methods → work with class itself (cls)\n",
        "\n",
        "* Static Methods → general utility functions, no self or cls.\n",
        "\n",
        "11. What is method overloading in Python ??\n",
        "\n",
        "* Method Overloading means defining multiple methods with the same name but different number or type of arguments, but in Python, method overloading is not supported directly — because Python allows only the last defined method with a given name.\n",
        "\n",
        "12. What is method overriding in OOP ??\n",
        "\n",
        "* Method Overriding is a concept where a child class provides its own implementation of a method that is already defined in its parent class.\n",
        "* The method name, arguments, and return type are the same, but the behavior is changed in the subclass.\n",
        "\n",
        "13. What is a property decorator in Python ??\n",
        "\n",
        "* The @property decorator in Python is used to make a method behave like an attribute.\n",
        "* It allows controlled access to private variables — like using a method, but accessing it like a variable.\n",
        "\n",
        "14.  Why is polymorphism important in OOP ??\n",
        "\n",
        "* Polymorphism is one of the core principles of OOP, and it means \"many forms\" the same function or operator behaves differently depending on the object.\n",
        "* code reusability, flexibility, extensibility and simplified code.\n",
        "\n",
        "15. What is an abstract class in Python ??\n",
        "\n",
        "* An abstract class is a blueprint for other classes.\n",
        "* It cannot be instantiated (you can't create objects directly from it), and it may contain abstract methods that must be implemented by child classes.\n",
        "\n",
        "16. What are the advantages of OOP ??\n",
        "\n",
        "* Modularity, reusability, encapsulation, abstraction, polymorphism, easy to mainatin and modify.\n",
        "\n",
        "17. What is the difference between a class variable and an instance variable ??\n",
        "\n",
        "* Class Variable: Inside class, outside any method, All objects of the class (shared), ClassName.var_name or object.var_name, When value should be common to all objects.\n",
        "* Instance Variable: Inside __init__() or other methods, Each object gets its own copy, Only via object.var_name, When value should be unique per object.\n",
        "\n",
        "18. What is multiple inheritance in Python ??\n",
        "\n",
        "* Multiple Inheritance means that a class can inherit from more than one parent class.\n",
        "* The child class gets features (methods & variables) from all parent classes.\n",
        "\n",
        "19. Explain the purpose of ‘’__str__’ and ‘__repr__’ ‘ methods in Python ??\n",
        "\n",
        "* Both __str__() and __repr__() are dunder (double underscore) methods used to define string representations of objects — useful for printing and debugging.\n",
        "* Used by print(), str(), Should return a readable and clean string for users.\n",
        "* Nicely formatted output\n",
        "\n",
        "20. What is the significance of the ‘super()’ function in Python ??\n",
        "\n",
        "* The super() function is used to call a method from the parent (super) class in a child class, especially during inheritance.\n",
        "\n",
        "21. What is the significance of the __del__ method in Python ??\n",
        "\n",
        "* The __del__ method in Python is a special method known as a destructor.\n",
        "* It is called automatically when an object is about to be destroyed — usually when there are no more references to it.\n",
        "\n",
        "22. What is the difference between @staticmethod and @classmethod in Python ??\n",
        "\n",
        "* @staticmethod:\n",
        "* Does not take self or cls as the first argument.\n",
        "* It does not depend on instance or class — behaves like a normal function, just inside a class.\n",
        "\n",
        "* @classmethod:\n",
        "* Takes cls (the class itself) as the first parameter.\n",
        "* Can access and modify class variables.\n",
        "\n",
        "23. How does polymorphism work in Python with inheritance ??\n",
        "\n",
        "* Polymorphism allows different classes to be treated as if they are the same type through a common interface — usually using inheritance.\n",
        "\n",
        "24. What is method chaining in Python OOP ??\n",
        "\n",
        "* Method chaining is a technique where you call multiple methods on the same object in a single line, one after the other.\n",
        "\n",
        "* It improves code readability and allows a fluent interface style.\n",
        "\n",
        "25. What is the purpose of the __call__ method in Python ??\n",
        "\n",
        "* The __call__ method in Python makes an object behave like a function.\n",
        "\n",
        "\n",
        "\n",
        "\n",
        "\n",
        "\n",
        "\n",
        "\n",
        "\n",
        "\n"
      ],
      "metadata": {
        "id": "JOo8bjzQ_Xl5"
      }
    },
    {
      "cell_type": "code",
      "source": [
        "# Create a parent class Animal with a method speak() that prints a generic message. Create a child class Dog that overrides the speak() method to print \"Bark!\".\n",
        "# Answer\n",
        "class Animal:\n",
        "    def speak(self):\n",
        "        print(\"The animal makes a sound.\")\n",
        "\n",
        "class Dog(Animal):\n",
        "    def speak(self):\n",
        "        print(\"Bark!\")\n",
        "\n",
        "generic_animal = Animal()\n",
        "dog = Dog()\n",
        "\n",
        "generic_animal.speak()\n",
        "dog.speak()"
      ],
      "metadata": {
        "colab": {
          "base_uri": "https://localhost:8080/"
        },
        "id": "mActfGwWHJhU",
        "outputId": "9688262b-89d5-4dda-f1fa-739fb80f4ddd"
      },
      "execution_count": 1,
      "outputs": [
        {
          "output_type": "stream",
          "name": "stdout",
          "text": [
            "The animal makes a sound.\n",
            "Bark!\n"
          ]
        }
      ]
    },
    {
      "cell_type": "code",
      "source": [
        "# Write a program to create an abstract class Shape with a method area(). Derive classes Circle and Rectangle from it and implement the area() method in both.\n",
        "# Answer\n",
        "from abc import ABC, abstractmethod\n",
        "\n",
        "class Shape(ABC):\n",
        "    @abstractmethod\n",
        "    def area(self):\n",
        "        pass\n",
        "\n",
        "class Circle(Shape):\n",
        "    def area(self):\n",
        "        print(\"Area of Circle = π × r × r\")\n",
        "\n",
        "class Rectangle(Shape):\n",
        "    def area(self):\n",
        "        print(\"Area of Rectangle = length × breadth\")\n",
        "\n",
        "c = Circle()\n",
        "r = Rectangle()\n",
        "\n",
        "c.area()\n",
        "r.area()"
      ],
      "metadata": {
        "colab": {
          "base_uri": "https://localhost:8080/"
        },
        "id": "54Isy_BFHvgV",
        "outputId": "da49f6ba-4d19-4a6a-c501-66414001a1c4"
      },
      "execution_count": 2,
      "outputs": [
        {
          "output_type": "stream",
          "name": "stdout",
          "text": [
            "Area of Circle = π × r × r\n",
            "Area of Rectangle = length × breadth\n"
          ]
        }
      ]
    },
    {
      "cell_type": "code",
      "source": [
        "#  Implement a multi-level inheritance scenario where a class Vehicle has an attribute type. Derive a class Car and further derive a class ElectricCar that adds a battery attribute.\n",
        "# Answer\n",
        "class Vehicle:\n",
        "    def __init__(self, vehicle_type):\n",
        "        self.vehicle_type = vehicle_type\n",
        "\n",
        "    def show_type(self):\n",
        "        print(\"Vehicle Type:\", self.vehicle_type)\n",
        "\n",
        "class Car(Vehicle):\n",
        "    def __init__(self, vehicle_type, brand):\n",
        "        super().__init__(vehicle_type)\n",
        "        self.brand = brand\n",
        "\n",
        "    def show_brand(self):\n",
        "        print(\"Car Brand:\", self.brand)\n",
        "\n",
        "class ElectricCar(Car):\n",
        "    def __init__(self, vehicle_type, brand, battery):\n",
        "        super().__init__(vehicle_type, brand)\n",
        "        self.battery = battery\n",
        "\n",
        "    def show_battery(self):\n",
        "        print(\"Battery Capacity:\", self.battery)\n",
        "\n",
        "e_car = ElectricCar(\"Four Wheeler\", \"Tesla\", \"85 kWh\")\n",
        "\n",
        "e_car.show_type()\n",
        "e_car.show_brand()\n",
        "e_car.show_battery()"
      ],
      "metadata": {
        "colab": {
          "base_uri": "https://localhost:8080/"
        },
        "id": "gmKlbB8SIMNp",
        "outputId": "cd71d013-9f1d-40cd-e075-cc0d7394d0c9"
      },
      "execution_count": 3,
      "outputs": [
        {
          "output_type": "stream",
          "name": "stdout",
          "text": [
            "Vehicle Type: Four Wheeler\n",
            "Car Brand: Tesla\n",
            "Battery Capacity: 85 kWh\n"
          ]
        }
      ]
    },
    {
      "cell_type": "code",
      "source": [
        "# Demonstrate polymorphism by creating a base class Bird with a method fly(). Create two derived classes Sparrow and Penguin that override the fly() method.\n",
        "# Answer\n",
        "class Bird:\n",
        "    def fly(self):\n",
        "        print(\"Some birds can fly.\")\n",
        "\n",
        "class Sparrow(Bird):\n",
        "    def fly(self):\n",
        "        print(\"Sparrow can fly high!\")\n",
        "\n",
        "class Penguin(Bird):\n",
        "    def fly(self):\n",
        "        print(\"Penguin cannot fly.\")\n",
        "\n",
        "bird1 = Sparrow()\n",
        "bird2 = Penguin()\n",
        "bird1.fly()\n",
        "bird2.fly()\n"
      ],
      "metadata": {
        "colab": {
          "base_uri": "https://localhost:8080/"
        },
        "id": "KDfdAstUIoWd",
        "outputId": "3c098d64-e444-4635-d86a-042f2f524cb3"
      },
      "execution_count": 4,
      "outputs": [
        {
          "output_type": "stream",
          "name": "stdout",
          "text": [
            "Sparrow can fly high!\n",
            "Penguin cannot fly.\n"
          ]
        }
      ]
    },
    {
      "cell_type": "code",
      "source": [
        "# Write a program to demonstrate encapsulation by creating a class BankAccount with private attributes balance and methods to deposit, withdraw, and check balance.\n",
        "# Answer\n",
        "class BankAccount:\n",
        "    def __init__(self, initial_balance):\n",
        "        self.__balance = initial_balance\n",
        "\n",
        "    def deposit(self, amount):\n",
        "        if amount > 0:\n",
        "            self.__balance += amount\n",
        "            print(f\"Deposited ₹{amount}\")\n",
        "        else:\n",
        "            print(\"Deposit amount must be positive.\")\n",
        "\n",
        "    def withdraw(self, amount):\n",
        "        if amount <= self.__balance:\n",
        "            self.__balance -= amount\n",
        "            print(f\"Withdrew ₹{amount}\")\n",
        "        else:\n",
        "            print(\"Insufficient balance.\")\n",
        "\n",
        "    def check_balance(self):\n",
        "        print(f\"Current Balance: ₹{self.__balance}\")\n",
        "\n",
        "account = BankAccount(1000)\n",
        "account.deposit(500)\n",
        "account.withdraw(300)\n",
        "account.check_balance()\n"
      ],
      "metadata": {
        "colab": {
          "base_uri": "https://localhost:8080/"
        },
        "id": "qlyXZsoIJBrq",
        "outputId": "79b2c39d-6da2-4413-eda3-690b69364698"
      },
      "execution_count": 5,
      "outputs": [
        {
          "output_type": "stream",
          "name": "stdout",
          "text": [
            "Deposited ₹500\n",
            "Withdrew ₹300\n",
            "Current Balance: ₹1200\n"
          ]
        }
      ]
    },
    {
      "cell_type": "code",
      "source": [
        "# Demonstrate runtime polymorphism using a method play() in a base class Instrument. Derive classes Guitar and Piano that implement their own version of play().\n",
        "# Answer\n",
        "# Base class\n",
        "class Instrument:\n",
        "    def play(self):\n",
        "        print(\"Playing an instrument\")\n",
        "\n",
        "class Guitar(Instrument):\n",
        "    def play(self):\n",
        "        print(\"Strumming the guitar 🎸\")\n",
        "\n",
        "class Piano(Instrument):\n",
        "    def play(self):\n",
        "        print(\"Playing the piano 🎹\")\n",
        "\n",
        "def start_playing(instrument):\n",
        "    instrument.play()\n",
        "\n",
        "g = Guitar()\n",
        "p = Piano()\n",
        "start_playing(g)\n",
        "start_playing(p)\n"
      ],
      "metadata": {
        "colab": {
          "base_uri": "https://localhost:8080/"
        },
        "id": "KyuCXAbxJalQ",
        "outputId": "29187ebd-48bd-438b-a102-f2a95ca3547e"
      },
      "execution_count": 6,
      "outputs": [
        {
          "output_type": "stream",
          "name": "stdout",
          "text": [
            "Strumming the guitar 🎸\n",
            "Playing the piano 🎹\n"
          ]
        }
      ]
    },
    {
      "cell_type": "code",
      "source": [
        "# Create a class MathOperations with a class method add_numbers() to add two numbers and a static method subtract_numbers() to subtract two numbers.\n",
        "# Answer\n",
        "class MathOperations:\n",
        "\n",
        "    @classmethod\n",
        "    def add_numbers(cls, a, b):\n",
        "        return a + b\n",
        "\n",
        "    @staticmethod\n",
        "    def subtract_numbers(a, b):\n",
        "        return a - b\n",
        "\n",
        "sum_result = MathOperations.add_numbers(10, 5)\n",
        "print(\"Sum:\", sum_result)\n",
        "\n",
        "diff_result = MathOperations.subtract_numbers(10, 5)\n",
        "print(\"Difference:\", diff_result)\n"
      ],
      "metadata": {
        "colab": {
          "base_uri": "https://localhost:8080/"
        },
        "id": "jkd09SftJyAz",
        "outputId": "0ac6b815-1962-4c3b-9f69-0ed577764910"
      },
      "execution_count": 7,
      "outputs": [
        {
          "output_type": "stream",
          "name": "stdout",
          "text": [
            "Sum: 15\n",
            "Difference: 5\n"
          ]
        }
      ]
    },
    {
      "cell_type": "code",
      "source": [
        "#  Implement a class Person with a class method to count the total number of persons created.\n",
        "# Answer\n",
        "class Person:\n",
        "    count = 0\n",
        "\n",
        "    def __init__(self, name):\n",
        "        self.name = name\n",
        "        Person.count += 1\n",
        "\n",
        "    @classmethod\n",
        "    def total_persons(cls):\n",
        "        print(f\"Total Persons Created: {cls.count}\")\n",
        "\n",
        "p1 = Person(\"Arun\")\n",
        "p2 = Person(\"Saro\")\n",
        "p3 = Person(\"Thansuh\")\n",
        "\n",
        "Person.total_persons()"
      ],
      "metadata": {
        "colab": {
          "base_uri": "https://localhost:8080/"
        },
        "id": "BJt2UFvbKFON",
        "outputId": "1d0e4927-be1f-44a9-ca38-cf4429f7dc0d"
      },
      "execution_count": 8,
      "outputs": [
        {
          "output_type": "stream",
          "name": "stdout",
          "text": [
            "Total Persons Created: 3\n"
          ]
        }
      ]
    },
    {
      "cell_type": "code",
      "source": [
        "#  Write a class Fraction with attributes numerator and denominator. Override the str method to display the fraction as \"numerator/denominator\".\n",
        "# Answer\n",
        "class Fraction:\n",
        "    def __init__(self, numerator, denominator):\n",
        "        self.numerator = numerator\n",
        "        self.denominator = denominator\n",
        "\n",
        "    def __str__(self):\n",
        "        return f\"{self.numerator}/{self.denominator}\"\n",
        "\n",
        "f1 = Fraction(1, 2)\n",
        "f2 = Fraction(3, 4)\n",
        "print(f1)  # Output: 1/2\n",
        "print(f2)  # Output: 3/4\n"
      ],
      "metadata": {
        "colab": {
          "base_uri": "https://localhost:8080/"
        },
        "id": "7GgDgq4GKWJC",
        "outputId": "82b82e45-b898-4047-f004-0122d310654f"
      },
      "execution_count": 9,
      "outputs": [
        {
          "output_type": "stream",
          "name": "stdout",
          "text": [
            "1/2\n",
            "3/4\n"
          ]
        }
      ]
    },
    {
      "cell_type": "code",
      "source": [
        "#  Demonstrate operator overloading by creating a class Vector and overriding the add method to add two vectors.\n",
        "# Answer\n",
        "class Vector:\n",
        "    def __init__(self, x, y):\n",
        "        self.x = x\n",
        "        self.y = y\n",
        "\n",
        "    def __add__(self, other):\n",
        "        return Vector(self.x + other.x, self.y + other.y)\n",
        "\n",
        "    def __str__(self):\n",
        "        return f\"({self.x}, {self.y})\"\n",
        "\n",
        "v1 = Vector(2, 3)\n",
        "v2 = Vector(4, 5)\n",
        "v3 = v1 + v2\n",
        "print(\"v1 + v2 =\", v3)  # Output: v1 + v2 = (6, 8)\n"
      ],
      "metadata": {
        "colab": {
          "base_uri": "https://localhost:8080/"
        },
        "id": "o5LpAmfYKnzH",
        "outputId": "2641a483-2545-4fb6-9728-5c9669062097"
      },
      "execution_count": 10,
      "outputs": [
        {
          "output_type": "stream",
          "name": "stdout",
          "text": [
            "v1 + v2 = (6, 8)\n"
          ]
        }
      ]
    },
    {
      "cell_type": "code",
      "source": [
        "#  Create a class Person with attributes name and age. Add a method greet() that prints \"Hello, my name is {name} and I am {age} years old.\"\n",
        "# Answer\n",
        "class Person:\n",
        "    def __init__(self, name, age):\n",
        "        self.name = name\n",
        "        self.age = age\n",
        "\n",
        "    def greet(self):\n",
        "        print(f\"Hello, my name is {self.name} and I am {self.age} years old.\")\n",
        "\n",
        "p1 = Person(\"Saro\", 22)\n",
        "p2 = Person(\"Thansuh\", 23)\n",
        "p1.greet()\n",
        "p2.greet()"
      ],
      "metadata": {
        "colab": {
          "base_uri": "https://localhost:8080/"
        },
        "id": "n75HDnR_K4L4",
        "outputId": "2d4ec608-9964-43c7-898e-01e2058fa5c2"
      },
      "execution_count": 11,
      "outputs": [
        {
          "output_type": "stream",
          "name": "stdout",
          "text": [
            "Hello, my name is Saro and I am 22 years old.\n",
            "Hello, my name is Thansuh and I am 23 years old.\n"
          ]
        }
      ]
    },
    {
      "cell_type": "code",
      "source": [
        "#  Implement a class Student with attributes name and grades. Create a method average_grade() to compute the average of the grades.\n",
        "# Answer\n",
        "class Student:\n",
        "    def __init__(self, name, grades):\n",
        "        self.name = name\n",
        "        self.grades = grades\n",
        "\n",
        "    def average_grade(self):\n",
        "        if len(self.grades) == 0:\n",
        "            return 0\n",
        "        return sum(self.grades) / len(self.grades)\n",
        "\n",
        "s1 = Student(\"Saro\", [85, 90, 88])\n",
        "s2 = Student(\"Thansuh\", [78, 82, 80])\n",
        "print(f\"{s1.name}'s average: {s1.average_grade()}\")\n",
        "print(f\"{s2.name}'s average: {s2.average_grade()}\")\n"
      ],
      "metadata": {
        "colab": {
          "base_uri": "https://localhost:8080/"
        },
        "id": "LQ8f6ChKLI0K",
        "outputId": "faafb915-0c2d-4daf-818a-057ff9bbface"
      },
      "execution_count": 12,
      "outputs": [
        {
          "output_type": "stream",
          "name": "stdout",
          "text": [
            "Saro's average: 87.66666666666667\n",
            "Thansuh's average: 80.0\n"
          ]
        }
      ]
    },
    {
      "cell_type": "code",
      "source": [
        "#  Create a class Rectangle with methods set_dimensions() to set the dimensions and area() to calculate the area.\n",
        "# Answer\n",
        "class Rectangle:\n",
        "    def __init__(self):\n",
        "        self.length = 0\n",
        "        self.width = 0\n",
        "\n",
        "    def set_dimensions(self, length, width):\n",
        "        self.length = length\n",
        "        self.width = width\n",
        "\n",
        "    def area(self):\n",
        "        return self.length * self.width\n",
        "\n",
        "r1 = Rectangle()\n",
        "r1.set_dimensions(5, 3)\n",
        "print(\"Area of rectangle:\", r1.area())\n"
      ],
      "metadata": {
        "colab": {
          "base_uri": "https://localhost:8080/"
        },
        "id": "YI8j48IwLc0a",
        "outputId": "c6346f9d-eb71-4d2d-9e4d-95610dff1a58"
      },
      "execution_count": 13,
      "outputs": [
        {
          "output_type": "stream",
          "name": "stdout",
          "text": [
            "Area of rectangle: 15\n"
          ]
        }
      ]
    },
    {
      "cell_type": "code",
      "source": [
        "#  Create a class Employee with a method calculate_salary() that computes the salary based on hours worked and hourly rate. Create a derived class Manager that adds a bonus to the salary.\n",
        "# Answer\n",
        "class Employee:\n",
        "    def __init__(self, name, hours_worked, hourly_rate):\n",
        "        self.name = name\n",
        "        self.hours_worked = hours_worked\n",
        "        self.hourly_rate = hourly_rate\n",
        "\n",
        "    def calculate_salary(self):\n",
        "        return self.hours_worked * self.hourly_rate\n",
        "\n",
        "class Manager(Employee):\n",
        "    def __init__(self, name, hours_worked, hourly_rate, bonus):\n",
        "        super().__init__(name, hours_worked, hourly_rate)\n",
        "        self.bonus = bonus\n",
        "\n",
        "    def calculate_salary(self):\n",
        "        base_salary = super().calculate_salary()\n",
        "        return base_salary + self.bonus\n",
        "\n",
        "e1 = Employee(\"Saro\", 40, 200)\n",
        "m1 = Manager(\"Thansuh\", 40, 200, 5000)\n",
        "print(f\"{e1.name}'s salary: ₹{e1.calculate_salary()}\")\n",
        "print(f\"{m1.name}'s salary with bonus: ₹{m1.calculate_salary()}\")\n"
      ],
      "metadata": {
        "colab": {
          "base_uri": "https://localhost:8080/"
        },
        "id": "Xq_m_Q-dLyus",
        "outputId": "47a641f0-e4e3-44d8-ef0a-f28e3efa8760"
      },
      "execution_count": 14,
      "outputs": [
        {
          "output_type": "stream",
          "name": "stdout",
          "text": [
            "Saro's salary: ₹8000\n",
            "Thansuh's salary with bonus: ₹13000\n"
          ]
        }
      ]
    },
    {
      "cell_type": "code",
      "source": [
        "# Create a class Product with attributes name, price, and quantity. Implement a method total_price() that calculates the total price of the product.\n",
        "# Answer\n",
        "class Product:\n",
        "    def __init__(self, name, price, quantity):\n",
        "        self.name = name\n",
        "        self.price = price\n",
        "        self.quantity = quantity\n",
        "\n",
        "    def total_price(self):\n",
        "        return self.price * self.quantity\n",
        "\n",
        "p1 = Product(\"Laptop\", 50000, 2)\n",
        "p2 = Product(\"Mouse\", 800, 3)\n",
        "print(f\"Total price for {p1.name}: ₹{p1.total_price()}\")\n",
        "print(f\"Total price for {p2.name}: ₹{p2.total_price()}\")\n"
      ],
      "metadata": {
        "colab": {
          "base_uri": "https://localhost:8080/"
        },
        "id": "lu_SUK36MI6J",
        "outputId": "32dd255d-3658-4799-e409-33610b1a4bca"
      },
      "execution_count": 15,
      "outputs": [
        {
          "output_type": "stream",
          "name": "stdout",
          "text": [
            "Total price for Laptop: ₹100000\n",
            "Total price for Mouse: ₹2400\n"
          ]
        }
      ]
    },
    {
      "cell_type": "code",
      "source": [
        "#  Create a class Animal with an abstract method sound(). Create two derived classes Cow and Sheep that implement the sound() method.\n",
        "# Answer\n",
        "from abc import ABC, abstractmethod\n",
        "\n",
        "class Animal(ABC):\n",
        "    @abstractmethod\n",
        "    def sound(self):\n",
        "        pass\n",
        "\n",
        "class Cow(Animal):\n",
        "    def sound(self):\n",
        "        return \"Moo\"\n",
        "\n",
        "class Sheep(Animal):\n",
        "    def sound(self):\n",
        "        return \"Baa\"\n",
        "\n",
        "cow = Cow()\n",
        "sheep = Sheep()\n",
        "print(\"Cow sound:\", cow.sound())\n",
        "print(\"Sheep sound:\", sheep.sound())\n"
      ],
      "metadata": {
        "colab": {
          "base_uri": "https://localhost:8080/"
        },
        "id": "tGcW2pBJMYss",
        "outputId": "3bfd84b5-ed5e-48a0-87de-03849bc3a280"
      },
      "execution_count": 16,
      "outputs": [
        {
          "output_type": "stream",
          "name": "stdout",
          "text": [
            "Cow sound: Moo\n",
            "Sheep sound: Baa\n"
          ]
        }
      ]
    },
    {
      "cell_type": "code",
      "source": [
        "# Create a class Book with attributes title, author, and year_published. Add a method get_book_info() that returns a formatted string with the book's details.\n",
        "# Answer\n",
        "class Book:\n",
        "    def __init__(self, title, author, year_published):\n",
        "        self.title = title\n",
        "        self.author = author\n",
        "        self.year_published = year_published\n",
        "\n",
        "    def get_book_info(self):\n",
        "        return f\"'{self.title}' by {self.author} (Published in {self.year_published})\"\n",
        "\n",
        "book1 = Book(\"Wings of Fire\", \"A.P.J. Abdul Kalam\", 1999)\n",
        "book2 = Book(\"The Alchemist\", \"Paulo Coelho\", 1988)\n",
        "print(book1.get_book_info())\n",
        "print(book2.get_book_info())\n"
      ],
      "metadata": {
        "colab": {
          "base_uri": "https://localhost:8080/"
        },
        "id": "03gm1XZYMqB5",
        "outputId": "41df084b-04ff-4feb-b294-e14e1415f6ca"
      },
      "execution_count": 17,
      "outputs": [
        {
          "output_type": "stream",
          "name": "stdout",
          "text": [
            "'Wings of Fire' by A.P.J. Abdul Kalam (Published in 1999)\n",
            "'The Alchemist' by Paulo Coelho (Published in 1988)\n"
          ]
        }
      ]
    },
    {
      "cell_type": "code",
      "source": [
        "#  Create a class House with attributes address and price. Create a derived class Mansion that adds an attribute number_of_room\n",
        "# Answer\n",
        "# Base class\n",
        "class House:\n",
        "    def __init__(self, address, price):\n",
        "        self.address = address\n",
        "        self.price = price\n",
        "\n",
        "    def show_info(self):\n",
        "        return f\"Address: {self.address}, Price: ₹{self.price}\"\n",
        "\n",
        "class Mansion(House):\n",
        "    def __init__(self, address, price, number_of_rooms):\n",
        "        super().__init__(address, price)\n",
        "        self.number_of_rooms = number_of_rooms\n",
        "\n",
        "    def show_info(self):\n",
        "        return f\"{super().show_info()}, Rooms: {self.number_of_rooms}\"\n",
        "\n",
        "house = House(\"123 Main St\", 750000)\n",
        "mansion = Mansion(\"456 Royal Ave\", 5000000, 10)\n",
        "print(\"House Info:\", house.show_info())\n",
        "print(\"Mansion Info:\", mansion.show_info())\n"
      ],
      "metadata": {
        "colab": {
          "base_uri": "https://localhost:8080/"
        },
        "id": "d-sON4f4M3yp",
        "outputId": "33acde77-adb4-4d25-f699-fbabe1abd217"
      },
      "execution_count": 18,
      "outputs": [
        {
          "output_type": "stream",
          "name": "stdout",
          "text": [
            "House Info: Address: 123 Main St, Price: ₹750000\n",
            "Mansion Info: Address: 456 Royal Ave, Price: ₹5000000, Rooms: 10\n"
          ]
        }
      ]
    }
  ]
}